{
 "cells": [
  {
   "cell_type": "code",
   "execution_count": 1,
   "id": "6b2ec9b8",
   "metadata": {},
   "outputs": [],
   "source": [
    "import numpy as np\n",
    "import jax.numpy as jp\n",
    "\n",
    "import jax\n",
    "jax.config.update('jax_enable_x64', True)"
   ]
  },
  {
   "cell_type": "code",
   "execution_count": 2,
   "id": "c97be9fc",
   "metadata": {},
   "outputs": [
    {
     "name": "stdout",
     "output_type": "stream",
     "text": [
      "4.23550616801549e-09\n",
      "2.9466466600069907e-08\n"
     ]
    }
   ],
   "source": [
    "# data\n",
    "a = jp.array(\n",
    "    [\n",
    "        [122, 1141, 1, 0, 0, 0, 0, 0],\n",
    "        [0, 0, 0, 122, 1141, 1, -156536, -1459977],\n",
    "        [686, 1209, 1, 0, 0, 0, -493286, -869838],\n",
    "        [0, 0, 0, 686, 1209, 1, -877486, -1547319],\n",
    "        [626, 2, 1, 0, 0, 0, -450148, -1812],\n",
    "        [0, 0, 0, 626, 2, 1, 0, 0],\n",
    "        [23, 339, 1, 0, 0, 0, 0, 0],\n",
    "        [0, 0, 0, 23, 339, 1, 0, 0],\n",
    "    ],\n",
    "    # dtype=jp.float64,\n",
    ")\n",
    "b = jp.array(\n",
    "    [0, 1279, 719, 1279, 719, 0, 0, 0],\n",
    "    # dtype=jp.float64\n",
    ")\n",
    "\n",
    "# numpy\n",
    "x = np.linalg.lstsq(a, b, rcond=None)[0]\n",
    "print(np.abs(a @ x - b).sum())  # 0.0005\n",
    "\n",
    "# jax\n",
    "x = jp.linalg.lstsq(a, b, rcond=None)[0]\n",
    "print(jp.abs(a @ x - b).sum())  # 562"
   ]
  },
  {
   "cell_type": "code",
   "execution_count": 3,
   "id": "c09da6fe",
   "metadata": {},
   "outputs": [
    {
     "data": {
      "text/plain": [
       "(8,)"
      ]
     },
     "execution_count": 3,
     "metadata": {},
     "output_type": "execute_result"
    }
   ],
   "source": [
    "b.shape"
   ]
  },
  {
   "cell_type": "code",
   "execution_count": 4,
   "id": "3c067e9c",
   "metadata": {},
   "outputs": [],
   "source": [
    "intercept = np.ones((len(a), 1))\n",
    "features = np.concatenate((intercept, a), axis=1)"
   ]
  },
  {
   "cell_type": "code",
   "execution_count": 5,
   "id": "7a4e0d7c",
   "metadata": {},
   "outputs": [
    {
     "data": {
      "text/plain": [
       "(8, 8)"
      ]
     },
     "execution_count": 5,
     "metadata": {},
     "output_type": "execute_result"
    }
   ],
   "source": [
    "a.shape"
   ]
  },
  {
   "cell_type": "code",
   "execution_count": 6,
   "id": "88b640ea",
   "metadata": {},
   "outputs": [
    {
     "data": {
      "text/plain": [
       "(8, 9)"
      ]
     },
     "execution_count": 6,
     "metadata": {},
     "output_type": "execute_result"
    }
   ],
   "source": [
    "features.shape"
   ]
  },
  {
   "cell_type": "code",
   "execution_count": 12,
   "id": "86628d83",
   "metadata": {},
   "outputs": [
    {
     "data": {
      "text/plain": [
       "array([[ 1.000000e+00,  1.220000e+02,  1.141000e+03,  1.000000e+00,\n",
       "         0.000000e+00,  0.000000e+00,  0.000000e+00,  0.000000e+00,\n",
       "         0.000000e+00],\n",
       "       [ 1.000000e+00,  0.000000e+00,  0.000000e+00,  0.000000e+00,\n",
       "         1.220000e+02,  1.141000e+03,  1.000000e+00, -1.565360e+05,\n",
       "        -1.459977e+06],\n",
       "       [ 1.000000e+00,  6.860000e+02,  1.209000e+03,  1.000000e+00,\n",
       "         0.000000e+00,  0.000000e+00,  0.000000e+00, -4.932860e+05,\n",
       "        -8.698380e+05],\n",
       "       [ 1.000000e+00,  0.000000e+00,  0.000000e+00,  0.000000e+00,\n",
       "         6.860000e+02,  1.209000e+03,  1.000000e+00, -8.774860e+05,\n",
       "        -1.547319e+06],\n",
       "       [ 1.000000e+00,  6.260000e+02,  2.000000e+00,  1.000000e+00,\n",
       "         0.000000e+00,  0.000000e+00,  0.000000e+00, -4.501480e+05,\n",
       "        -1.812000e+03],\n",
       "       [ 1.000000e+00,  0.000000e+00,  0.000000e+00,  0.000000e+00,\n",
       "         6.260000e+02,  2.000000e+00,  1.000000e+00,  0.000000e+00,\n",
       "         0.000000e+00],\n",
       "       [ 1.000000e+00,  2.300000e+01,  3.390000e+02,  1.000000e+00,\n",
       "         0.000000e+00,  0.000000e+00,  0.000000e+00,  0.000000e+00,\n",
       "         0.000000e+00],\n",
       "       [ 1.000000e+00,  0.000000e+00,  0.000000e+00,  0.000000e+00,\n",
       "         2.300000e+01,  3.390000e+02,  1.000000e+00,  0.000000e+00,\n",
       "         0.000000e+00]])"
      ]
     },
     "execution_count": 12,
     "metadata": {},
     "output_type": "execute_result"
    }
   ],
   "source": [
    "features"
   ]
  },
  {
   "cell_type": "code",
   "execution_count": 19,
   "id": "0733ef1a",
   "metadata": {},
   "outputs": [],
   "source": [
    "def fit_ols(x, y):\n",
    "    \"\"\"Fit a linear model using least-squares.\n",
    "\n",
    "    Args:\n",
    "        x (jnp.ndarray): Array of shape (n, p) of x-values.\n",
    "        y (jnp.ndarray): Array of shape (n, k) of y-values.\n",
    "\n",
    "    Returns:\n",
    "        coef (np.ndarray): Array of shape (p, k) of coefficients.\n",
    "\n",
    "    \"\"\"\n",
    "    intercept = jnp.ones((len(x), 1))\n",
    "    features = jnp.concatenate((intercept, x), axis=1)\n",
    "    \n",
    "    \n",
    "    coef, *_ = jnp.linalg.lstsq(features, y, rcond=None)\n",
    "    #coef = coef.T\n",
    "\n",
    "    return coef"
   ]
  },
  {
   "cell_type": "code",
   "execution_count": 22,
   "id": "363d8d2c",
   "metadata": {},
   "outputs": [
    {
     "data": {
      "text/plain": [
       "array([-1.40064866e+02,  1.60699106e+00, -1.98369221e-01,  1.70351237e+02,\n",
       "        7.15527725e-01,  1.28030629e+00, -3.10416103e+02,  7.04719414e-04,\n",
       "       -1.99777854e-04])"
      ]
     },
     "execution_count": 22,
     "metadata": {},
     "output_type": "execute_result"
    }
   ],
   "source": [
    "coef = fit_ols(a, b)\n",
    "coef"
   ]
  },
  {
   "cell_type": "code",
   "execution_count": 23,
   "id": "07dad93a",
   "metadata": {},
   "outputs": [
    {
     "name": "stdout",
     "output_type": "stream",
     "text": [
      "3.100518020104914e-08\n"
     ]
    }
   ],
   "source": [
    "print(jp.abs(features @ coef - b).sum()) "
   ]
  },
  {
   "cell_type": "code",
   "execution_count": null,
   "id": "62d65da0",
   "metadata": {},
   "outputs": [],
   "source": []
  }
 ],
 "metadata": {
  "kernelspec": {
   "display_name": "Python 3 (ipykernel)",
   "language": "python",
   "name": "python3"
  },
  "language_info": {
   "codemirror_mode": {
    "name": "ipython",
    "version": 3
   },
   "file_extension": ".py",
   "mimetype": "text/x-python",
   "name": "python",
   "nbconvert_exporter": "python",
   "pygments_lexer": "ipython3",
   "version": "3.10.13"
  }
 },
 "nbformat": 4,
 "nbformat_minor": 5
}
